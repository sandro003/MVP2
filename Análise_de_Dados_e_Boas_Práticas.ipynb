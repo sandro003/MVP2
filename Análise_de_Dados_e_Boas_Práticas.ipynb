{
  "nbformat": 4,
  "nbformat_minor": 0,
  "metadata": {
    "colab": {
      "provenance": [],
      "authorship_tag": "ABX9TyNz6/nEytEDROKK6eJgRH/K",
      "include_colab_link": true
    },
    "kernelspec": {
      "name": "python3",
      "display_name": "Python 3"
    },
    "language_info": {
      "name": "python"
    }
  },
  "cells": [
    {
      "cell_type": "markdown",
      "metadata": {
        "id": "view-in-github",
        "colab_type": "text"
      },
      "source": [
        "<a href=\"https://colab.research.google.com/github/sandro003/MVP2/blob/main/An%C3%A1lise_de_Dados_e_Boas_Pr%C3%A1ticas.ipynb\" target=\"_parent\"><img src=\"https://colab.research.google.com/assets/colab-badge.svg\" alt=\"Open In Colab\"/></a>"
      ]
    },
    {
      "cell_type": "markdown",
      "source": [
        "##INTRODUÇÃO:\n",
        "\n",
        "A expectativa de vida em um determinado país está bastante relacionada com a qualidade de vida que um indivíduo possui, já que fatores como educação, saúde, assistência social, segurança, guerras e conflitos internos influenciam-na diretamente. Este notebook busca abordar essas lacunas desenvolvendo um conjunto de dados abrangentes, sem análises de valores ausentes, utilizando dados de muitos anos de 193 países diferentes permitindo que os países priorizem atuações que poderiam melhorar mais efetivamente a saúde e a expectativa de vida de suas populações.\n",
        "Com base acima entendi que o problema \"Conjunto de dados de expectativa de vida dos países\" seria um problema supervisionado uma vez que usam dados brutos com rótulos significativos e levei como premissa \"A qualidade de vida está diretamente ligada a longevidade do indivíduo\". Lembrando que os dados foram selecionados baseando-se nas consistências dos mesmos."
      ],
      "metadata": {
        "id": "5GSv8ja1NcFl"
      }
    },
    {
      "cell_type": "markdown",
      "source": [
        "#ATRIBUTOS DO DATASET:\n",
        "Country: nome do país.\n",
        "\n",
        "Year: ano da análise.\n",
        "\n",
        "Status: status do país (variável binária).\n",
        "\n",
        "Life expectancy: expectativa média de vida.\n",
        "\n",
        "Adult mortality: probabilidade de morrer entre 15 e 60 anos por 1.000\n",
        "habitantes.\n",
        "\n",
        "Infant deaths: mortes infantis por 1.000 bebês.\n",
        "\n",
        "Alcohol: consumo individual médio de álcool puro entre pessoas com mais de 15\n",
        "anos.\n",
        "\n",
        "Percentage expenditure: porcentagem do PIB per capita gasto em assistência\n",
        "médica.\n",
        "\n",
        "Hepatitis B: cobertura de imunização contra hepatite B entre crianças de 1 ano\n",
        "em porcentagem.\n",
        "\n",
        "Measles: número relatado de casos de sarampo por 1.000 pessoas.\n",
        "\n",
        "BMI: IMC médio de toda a população.\n",
        "\n",
        "Under-five deaths: número de mortes de menores de cinco anos por 1.000 pessoas.\n",
        "\n",
        "Polio: cobertura de imunização contra pólio entre crianças de 1 ano em\n",
        "porcentagem.\n",
        "\n",
        "Total expenditure: despesa geral do governo com saúde como uma porcentagem da despesa total do governo.\n",
        "\n",
        "Diphtheria: cobertura de imunização contra difteria entre crianças de 1 ano em porcentagem.\n",
        "\n",
        "HIV/AIDS: mortes escalonadas por 1.000 nascidos vivos por HIV/AIDS.\n",
        "\n",
        "GDP: PIB de cada país em USD.\n",
        "\n",
        "Population: população total do país.\n",
        "\n",
        "Thinness 1-19 years: prevalência de magreza entre crianças e adolescentes de 10 a 19 anos em porcentagem.\n",
        "\n",
        "Thinness 5-9 years: prevalência de magreza entre crianças de 5 a 9 anos em porcentagem.\n",
        "\n",
        "Income composition of resources: índice de desenvolvimento humano (IDH) em termos de composição de renda dos recursos.\n",
        "\n",
        "Schooling: número médio de anos na escola."
      ],
      "metadata": {
        "id": "FZcK0TBlNwwP"
      }
    },
    {
      "cell_type": "markdown",
      "source": [
        "PREPARANDO O AMBIENTE PARA CRIAÇÃO DO MVP ANÁLISE DE DADOS E BOAS PRÁTICAS"
      ],
      "metadata": {
        "id": "Uql98fIhVwXl"
      }
    },
    {
      "cell_type": "code",
      "source": [
        "from google.colab import drive\n",
        "drive.mount('/content/drive'),"
      ],
      "metadata": {
        "id": "YqkIQZ6pV2hd"
      },
      "execution_count": null,
      "outputs": []
    },
    {
      "cell_type": "code",
      "source": [
        "# Biblioteca responsável por fazer a leitura e impressão da base de dados\n",
        "import pandas as pd #Importando PANDAS e criando alias para facilitar na digitação\n",
        "import matplotlib.pyplot as plt\n",
        "import numpy as np\n",
        "import seaborn as sns # para gerar gráficos mais atrativos com códigos mais limpos e mais simples.\n",
        "from scipy.stats import pearsonr\n",
        "import copy"
      ],
      "metadata": {
        "id": "g5W2QVQxZMUV"
      },
      "execution_count": 13,
      "outputs": []
    },
    {
      "cell_type": "code",
      "source": [
        "#Realizando a importação do arquivo csv\n",
        "# Ler o arquivo csv\n",
        "df = pd.read_csv('https://raw.githubusercontent.com/sandro003/MVP2/refs/heads/main/expectativdevida.csv')"
      ],
      "metadata": {
        "id": "7Ur5ZkBqZV0M"
      },
      "execution_count": 14,
      "outputs": []
    },
    {
      "cell_type": "code",
      "source": [
        "# Visualizando o arquivo\n",
        "display(df.head(500))  # Print the first few rows of the DataFrame"
      ],
      "metadata": {
        "id": "9HrJ3nTfaH7a"
      },
      "execution_count": null,
      "outputs": []
    },
    {
      "cell_type": "code",
      "source": [
        "# Criando o histograma\n",
        "plt.hist(df['Life expectancy'], bins=20, color='skyblue', edgecolor='black')\n",
        "\n",
        "# Adicionando rótulos e título\n",
        "plt.xlabel('Expectativa de Vida')\n",
        "plt.ylabel('Frequência')\n",
        "plt.title('Histograma da Expectativa de Vida')"
      ],
      "metadata": {
        "id": "_ewTVzvJlzpm"
      },
      "execution_count": null,
      "outputs": []
    },
    {
      "cell_type": "markdown",
      "source": [
        "##ANALISE DE DADOS\n",
        "\n",
        "Nesta etapa a ideia é entender a informação que está disponível levando-se em conta algumas estatísticas descritivas para uma possível necessidade de transformação na etapa de preparação de dados. Abaixo foram dispostos alguns comandos bem como suas finalidades."
      ],
      "metadata": {
        "id": "mwGNf-94JDrp"
      }
    },
    {
      "cell_type": "code",
      "source": [
        "#Informa a quantidade de atributos e instâncias existentes\n",
        "print(df.shape)"
      ],
      "metadata": {
        "id": "L4e1JtBRB_k8",
        "colab": {
          "base_uri": "https://localhost:8080/"
        },
        "outputId": "ab29b6ad-4094-49a6-b3fb-c1778013f6ca"
      },
      "execution_count": 17,
      "outputs": [
        {
          "output_type": "stream",
          "name": "stdout",
          "text": [
            "(2938, 22)\n"
          ]
        }
      ]
    },
    {
      "cell_type": "code",
      "source": [
        "# Informa quais são os tipos de dados dos atributos\n",
        "print(df.dtypes)"
      ],
      "metadata": {
        "id": "My5chlxVCOhU"
      },
      "execution_count": null,
      "outputs": []
    },
    {
      "cell_type": "code",
      "source": [
        "# Verifica as primeiras linhas do dataset e não foram encontradas inconsistências\n",
        "df.describe()"
      ],
      "metadata": {
        "id": "Uje3m5P2PC4V"
      },
      "execution_count": null,
      "outputs": []
    },
    {
      "cell_type": "code",
      "source": [
        "# Verifica se há valores faltantes, discrepantes e/ou inconsistentes\n",
        "missing_values = df.isnull().sum()\n",
        "print(\"Valores faltantes por coluna:\")\n",
        "print(missing_values)"
      ],
      "metadata": {
        "id": "fCekoaLwPCt9"
      },
      "execution_count": null,
      "outputs": []
    },
    {
      "cell_type": "code",
      "source": [
        "# Resumo estatístico dos atributos com valor numérico (mínimo, máximo, mediana, moda, média, desvio-padrão e número de valores ausentes).\n",
        "# Filtrar apenas as colunas numéricas\n",
        "numeric_df = df.select_dtypes(include=['float64', 'int64'])"
      ],
      "metadata": {
        "id": "lCZMbCDSPCkA"
      },
      "execution_count": 21,
      "outputs": []
    },
    {
      "cell_type": "code",
      "source": [
        "# Resumo estatístico básico (média, desvio-padrão, mínimo, máximo, etc.)\n",
        "stats_summary = numeric_df.describe()"
      ],
      "metadata": {
        "id": "hMMOMCYxPSZf"
      },
      "execution_count": 22,
      "outputs": []
    },
    {
      "cell_type": "code",
      "source": [
        "# Cálculo da mediana para cada coluna numérica\n",
        "median_values = numeric_df.median()"
      ],
      "metadata": {
        "id": "j4i9IBIrPSRq"
      },
      "execution_count": 23,
      "outputs": []
    },
    {
      "cell_type": "code",
      "source": [
        "# Cálculo da moda para cada coluna numérica\n",
        "mode_values = numeric_df.mode().iloc[0]"
      ],
      "metadata": {
        "id": "bjtGrUoePSLH"
      },
      "execution_count": 24,
      "outputs": []
    },
    {
      "cell_type": "code",
      "source": [
        "# Contagem de valores ausentes\n",
        "missing_values = numeric_df.isnull().sum()"
      ],
      "metadata": {
        "id": "btzdzzjXPSGs"
      },
      "execution_count": 25,
      "outputs": []
    },
    {
      "cell_type": "code",
      "source": [
        "# Exibir o resumo completo\n",
        "print(\"Resumo Estatístico:\")\n",
        "print(stats_summary)\n",
        "print(\"\\nMedianas:\")\n",
        "print(median_values)\n",
        "print(\"\\nModas:\")\n",
        "print(mode_values)\n",
        "print(\"\\nNúmero de valores ausentes por coluna:\")\n",
        "print(missing_values)"
      ],
      "metadata": {
        "id": "67-mE12fShEQ"
      },
      "execution_count": null,
      "outputs": []
    },
    {
      "cell_type": "markdown",
      "source": [
        "##PRÉ-PROCESSAMENTO DE DADOS\n",
        "Nesta etapa a ideia é realizar operações de limpeza, tratamento e preparação dos dados. Como o dataset dispõe da coluna categórica \"Country\", que não pode ser usada diretamente pelo modelo, optei por usar a operação \"one-hot encoding\" para transformar a categoria em formato numérico."
      ],
      "metadata": {
        "id": "a4-73xP6PgGL"
      }
    },
    {
      "cell_type": "code",
      "source": [
        "# Usando a operação \"one-hot encoding\" na coluna \"Country\".\n",
        "encoded_df = pd.get_dummies(df, columns=['Country'])"
      ],
      "metadata": {
        "id": "yDd1nT_MPpSh"
      },
      "execution_count": 27,
      "outputs": []
    },
    {
      "cell_type": "code",
      "source": [
        "# Exibir as primeiras linhas do dataset com as colunas one-hot encoded\n",
        "print(encoded_df.head())"
      ],
      "metadata": {
        "id": "zvYlXOHwP1qq"
      },
      "execution_count": null,
      "outputs": []
    },
    {
      "cell_type": "code",
      "source": [
        "# Tratando/Limpando e padronizando os dados\n",
        "\n",
        "X = pd.read_csv('https://raw.githubusercontent.com/sandro003/MVP2/refs/heads/main/expectativdevida.csv')\n",
        "\n",
        "print(X.shape)\n",
        "print(X.head())\n",
        "\n",
        "country_col = X[['Country']]\n",
        "X.drop(['Country'], axis=1, inplace = True)\n",
        "\n",
        "# OBS: Os dados se mostraram limpos e foram padronizados"
      ],
      "metadata": {
        "id": "PVKk8qPyP1ot"
      },
      "execution_count": null,
      "outputs": []
    },
    {
      "cell_type": "code",
      "source": [
        "# Carregando o DataFrame como 'df'\n",
        "\n",
        "# Encontrando linhas com valores nulos em qualquer coluna\n",
        "null_rows = df[df.isnull().any(axis=1)]\n",
        "\n",
        "# Exibindo linhas com valores nulos\n",
        "display(null_rows)"
      ],
      "metadata": {
        "id": "Is2KDtWeTLL1"
      },
      "execution_count": null,
      "outputs": []
    },
    {
      "cell_type": "code",
      "source": [
        "# Limpando e padronizando os dados\n",
        "\n",
        "X = pd.read_csv('https://raw.githubusercontent.com/sandro003/MVP2/refs/heads/main/expectativdevida.csv')\n",
        "\n",
        "print(X.shape)\n",
        "print(X.head())\n",
        "\n",
        "country_col = X[['Country']]\n",
        "X.drop(['Country'], axis=1, inplace = True)\n",
        "\n",
        "# OBS: Os dados se mostraram limpos e foram padronizados"
      ],
      "metadata": {
        "id": "dLeIMIfeTLJ5"
      },
      "execution_count": null,
      "outputs": []
    },
    {
      "cell_type": "markdown",
      "source": [
        "Análise Exploratória de Dados"
      ],
      "metadata": {
        "id": "xh8kY65UTrgT"
      }
    },
    {
      "cell_type": "code",
      "source": [
        " # Visualizando a matriz de correlação e o vetor de correlação com a expectativa de vida\n",
        "corr_matrix = X.corr()\n",
        "sns.heatmap(corr_matrix, annot=False, cmap='coolwarm', linewidths=0.5)\n",
        "plt.show()\n"
      ],
      "metadata": {
        "id": "nxomCR9JTLIe"
      },
      "execution_count": null,
      "outputs": []
    },
    {
      "cell_type": "code",
      "source": [
        "sns.heatmap(corr_matrix[['Life expectancy']].sort_values(by='Life expectancy').T, annot=False, cmap='coolwarm', linewidths=0.5)\n",
        "plt.show()"
      ],
      "metadata": {
        "id": "ivjA4M8GTLGZ"
      },
      "execution_count": null,
      "outputs": []
    },
    {
      "cell_type": "code",
      "source": [
        "print(corr_matrix[['Life expectancy']].sort_values(by='Life expectancy'))"
      ],
      "metadata": {
        "id": "k29sYPLQTLFA"
      },
      "execution_count": null,
      "outputs": []
    },
    {
      "cell_type": "code",
      "source": [
        "# Criando Diagrama de dispersão de álcool e expectativa de vida\n",
        "vida = pd.read_csv('https://raw.githubusercontent.com/sandro003/MVP2/refs/heads/main/expectativdevida.csv')"
      ],
      "metadata": {
        "id": "eALoZsLOTLDZ"
      },
      "execution_count": 35,
      "outputs": []
    },
    {
      "cell_type": "code",
      "source": [
        "vida_with_status = vida.copy()\n",
        "vida_with_status.Status = vida.Status.map({-0.4593985099361714: \"Developing\", 2.1767593459085: \"Developed\"})\n",
        "sns.scatterplot(data = vida_with_status, x = \"Alcohol\", y = \"Life expectancy\", hue = \"Status\")\n",
        "plt.show()"
      ],
      "metadata": {
        "id": "ISJ4StesTLBC"
      },
      "execution_count": null,
      "outputs": []
    },
    {
      "cell_type": "markdown",
      "source": [
        "Verificação de outliers - Após as transformação, verifiquei novamente se há outliers que possam ter surgido com as novas variáveis."
      ],
      "metadata": {
        "id": "rA1AE7bXQJ7w"
      }
    },
    {
      "cell_type": "code",
      "source": [
        "# Gerar boxplot novamente para verificar outliers\n",
        "df[numeric_df.columns].plot(kind='box', figsize=(12, 8), vert=False)\n",
        "plt.title(\"Boxplot das colunas numéricas após transformações\")\n",
        "plt.show()"
      ],
      "metadata": {
        "id": "E1hTmTBwP1mx"
      },
      "execution_count": null,
      "outputs": []
    },
    {
      "cell_type": "markdown",
      "source": [
        "##AUTOAVALIAÇÃO\n",
        "\n",
        "Neste MVP deparei com algumas situações que até então nem se quer imaginava que teria e vou tentar contextualizar abaixo bem como algumas dores operacionais que tive.\n",
        "\n",
        "1- Da definição do problema - tive muita dificuldade para encontrar o dataset correto pois, como estou iniciando, ainda tenho dificuldade para contar uma história com os meus dados e por isso perdi muito mais tempo coletando do que analisando os mesmos.\n",
        "\n",
        "2- Uma vez com algumas perguntas elencadas fui buscar uma base de dados confiável e segura e optei por seguir a indicação do curso.\n",
        "\n",
        "3- Baixei o arquivo csv localmente e depois subi para o Github de forma manual.\n",
        "\n",
        "4- Por fim, consegui determinar que existe sim a correlação entre consumo de álcool e a expectativa de vida e isso se deve ao fato de que países mais desenvolvidos tendem a consumir mais álcool. Em função disso alguns países tem adotado a Lei Seca para minimizar os danos causados à sociedadde pela ingestão exessiva de álcool."
      ],
      "metadata": {
        "id": "qSn6WuE9QZO9"
      }
    },
    {
      "cell_type": "markdown",
      "source": [
        "##BIBLIOGRAFIA:\n",
        "\n",
        "Engenharia de Dados: o que é, o que faz e um Guia completo. Alura, 2023. Disponível em: https://www.alura.com.br/artigos/engenharia-dados?srsltid=AfmBOorWZVr2iVRqWcdb_6UGxSMEo0bEje0oltL2ydb8COmuYBDUr43E. Acesso em: 08/08/2024.\n",
        "\n",
        "Análise Exploratória: primeiros passos | Alura. Alura, 2020. Disponível em: https://www.alura.com.br/artigos/analise-exploratoria?srsltid=AfmBOoq-dS3MUBDAaLrzw7QccXQAqhhtfmdXZ4sEOEdZMGHRrTzk5bdB. Acesso em: 11/08/2024.\n",
        "\n",
        "Introdução à Ciência de Dados (Data Science): Didática Tech. Youtube, 2022. Disponível em: https://www.youtube.com/watch?v=sjpBNi4DgI0. Acesso em: 06/09/2024\n",
        "\n",
        "Como criar um projeto de Data Science do zero para seu Portfólio | Hipsters: Portfólio Dev. Youtube, 2024. Disponível em: https://www.youtube.com/watch?v=hV3ORe7F8Q4. Acesso em: 09/09/2024\n",
        "\n",
        "Cleaned Countries Life Expectancy Dataset. Kaggle, 2021. Disponível em: https://www.kaggle.com/datasets/paperxd/cleaned-life-expectancy-dataset/data. Acesso em: 16/09/2024."
      ],
      "metadata": {
        "id": "j-M8L5_6PgCr"
      }
    }
  ]
}